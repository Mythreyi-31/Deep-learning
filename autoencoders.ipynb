{
 "cells": [
  {
   "cell_type": "code",
   "execution_count": 4,
   "metadata": {},
   "outputs": [],
   "source": [
    "## Load libraries\n",
    "import numpy as np\n",
    "import matplotlib.pyplot as plt\n",
    "import matplotlib.cm as cm\n",
    "plt.style.use('dark_background')\n",
    "%matplotlib inline"
   ]
  },
  {
   "cell_type": "code",
   "execution_count": 5,
   "metadata": {},
   "outputs": [],
   "source": [
    "np.set_printoptions(precision=2)"
   ]
  },
  {
   "cell_type": "code",
   "execution_count": 6,
   "metadata": {},
   "outputs": [
    {
     "name": "stdout",
     "output_type": "stream",
     "text": [
      "WARNING:tensorflow:From c:\\Users\\SA RAVI\\anaconda3\\envs\\aimlsem1\\lib\\site-packages\\keras\\src\\losses.py:2976: The name tf.losses.sparse_softmax_cross_entropy is deprecated. Please use tf.compat.v1.losses.sparse_softmax_cross_entropy instead.\n",
      "\n"
     ]
    }
   ],
   "source": [
    "import tensorflow as tf\n",
    "import sys \n",
    "import pandas as pd"
   ]
  },
  {
   "cell_type": "code",
   "execution_count": 7,
   "metadata": {},
   "outputs": [
    {
     "data": {
      "text/plain": [
       "'2.15.0'"
      ]
     },
     "execution_count": 7,
     "metadata": {},
     "output_type": "execute_result"
    }
   ],
   "source": [
    "tf.__version__"
   ]
  },
  {
   "cell_type": "code",
   "execution_count": 8,
   "metadata": {},
   "outputs": [],
   "source": [
    "from tensorflow.keras.datasets import mnist"
   ]
  },
  {
   "cell_type": "code",
   "execution_count": 9,
   "metadata": {},
   "outputs": [
    {
     "data": {
      "text/plain": [
       "(60000, 28, 28)"
      ]
     },
     "execution_count": 9,
     "metadata": {},
     "output_type": "execute_result"
    }
   ],
   "source": [
    "(X_train, _), (X_test, _) = mnist.load_data()\n",
    "X_train.shape"
   ]
  },
  {
   "cell_type": "code",
   "execution_count": 10,
   "metadata": {},
   "outputs": [],
   "source": [
    "# pca doesn't work with categorical variables. Autoencoder is a non linear dimension reduction tool. \n",
    "\n",
    "## Load MNIST data\n",
    "(X_train, _), (X_test, _) = mnist.load_data()\n",
    "X_train = X_train.reshape(X_train.shape[0], X_train.shape[1]*X_train.shape[2])\n",
    "X_test = X_test.reshape(X_test.shape[0], X_test.shape[1]* X_test.shape[2])\n",
    "\n",
    "\n",
    "num_features = X_train.shape[1]\n",
    "num_samples = X_train.shape[0]"
   ]
  },
  {
   "cell_type": "code",
   "execution_count": 11,
   "metadata": {},
   "outputs": [
    {
     "name": "stdout",
     "output_type": "stream",
     "text": [
      "60000\n",
      "784\n"
     ]
    }
   ],
   "source": [
    "#normalize the shapes\n",
    "xmax =  np.amax(X_train)\n",
    "xmin =  np.amin(X_train)\n",
    "X_train = (X_train -xmin)/ (xmax -xmin)\n",
    "X_test = (X_test -xmin)/ (xmax -xmin)\n",
    "\n",
    "print(num_samples)\n",
    "print(num_features)"
   ]
  },
  {
   "cell_type": "code",
   "execution_count": 12,
   "metadata": {},
   "outputs": [],
   "source": [
    "# parameters of autoencoder\n",
    "batch_size = 256\n",
    "max_epochs = 50\n",
    "learning_rate = 1e-03\n",
    "latent_dim = 128\n",
    "hidden_dim = 256\n",
    "original_dim = X_train.shape[1]"
   ]
  },
  {
   "cell_type": "code",
   "execution_count": 13,
   "metadata": {},
   "outputs": [
    {
     "data": {
      "text/plain": [
       "numpy.ndarray"
      ]
     },
     "execution_count": 13,
     "metadata": {},
     "output_type": "execute_result"
    }
   ],
   "source": [
    "type(X_train) #loads into numpy array onlyy"
   ]
  },
  {
   "cell_type": "code",
   "execution_count": 14,
   "metadata": {},
   "outputs": [],
   "source": [
    "## convert numpy to tf.data.dataset\n",
    "training_dataset = tf.data.Dataset.from_tensor_slices(X_train).batch(batch_size)"
   ]
  },
  {
   "cell_type": "code",
   "execution_count": 15,
   "metadata": {},
   "outputs": [],
   "source": [
    "# custom layers\n",
    "#encoder\n",
    "class Encoder(tf.keras.layers.Layer):\n",
    "    # define input independent model information\n",
    "    def __init__(self, hidden_dim, latent_dim):\n",
    "        super(Encoder, self).__init__() #constructor is same for superclass\n",
    "        self.encoder_layer1 =  tf.keras.layers.Dense(units=hidden_dim, activation=tf.nn.relu)\n",
    "        self.encoder_layer2 = tf.keras.layers.Dense(units=latent_dim, activation=tf.nn.relu)    \n",
    "\n",
    "    # method for forward propagation\n",
    "    def call(self, input_features):\n",
    "        a = self.encoder_layer1(input_features)\n",
    "        a = self.encoder_layer2(a)\n",
    "        return (a)\n"
   ]
  },
  {
   "cell_type": "code",
   "execution_count": 16,
   "metadata": {},
   "outputs": [],
   "source": [
    "#decoder\n",
    "class Decoder(tf.keras.layers.Layer):\n",
    "    def __init__(self, latent_dim, hidden_dim, original_dim):\n",
    "        super(Decoder, self).__init__()\n",
    "        self.decoder_layer1 =  tf.keras.layers.Dense(units=hidden_dim, activation=tf.nn.relu)\n",
    "        self.decoder_layer2 = tf.keras.layers.Dense(units=original_dim, activation=tf.nn.relu) \n",
    "\n",
    "    def call(self, encoded_feature):\n",
    "        a = self.decoder_layer1(encoded_feature)\n",
    "        a = self.decoder_layer2(a)\n",
    "        return a"
   ]
  },
  {
   "cell_type": "code",
   "execution_count": 17,
   "metadata": {},
   "outputs": [],
   "source": [
    "# autoencoder\n",
    "class Autoencoder(tf.keras.Model):\n",
    "    def __init__(self, latent_dim, hidden_dim, original_dim):\n",
    "        super(Autoencoder, self).__init__()\n",
    "        self.loss = []\n",
    "        self.encoder = Encoder(hidden_dim = hidden_dim, latent_dim = latent_dim) #calls constructor\n",
    "        self.decoder = Decoder(latent_dim = latent_dim, hidden_dim = hidden_dim, original_dim = original_dim)\n",
    "\n",
    "    def call(self, input_features):\n",
    "        encoded = self.encoder(input_features)\n",
    "        reconstructed_features = self.decoder(encoded)\n",
    "        return reconstructed_features\n",
    "\n"
   ]
  },
  {
   "cell_type": "code",
   "execution_count": 18,
   "metadata": {},
   "outputs": [
    {
     "name": "stdout",
     "output_type": "stream",
     "text": [
      "WARNING:tensorflow:From c:\\Users\\SA RAVI\\anaconda3\\envs\\aimlsem1\\lib\\site-packages\\keras\\src\\backend.py:873: The name tf.get_default_graph is deprecated. Please use tf.compat.v1.get_default_graph instead.\n",
      "\n"
     ]
    }
   ],
   "source": [
    "# build model\n",
    "autoencoder = Autoencoder(latent_dim = latent_dim,\n",
    "                          hidden_dim = hidden_dim,\n",
    "                          original_dim = original_dim)"
   ]
  },
  {
   "cell_type": "code",
   "execution_count": 19,
   "metadata": {},
   "outputs": [],
   "source": [
    "# Optimizer\n",
    "opt = tf.keras.optimizers.Adam(learning_rate = learning_rate )"
   ]
  },
  {
   "cell_type": "code",
   "execution_count": 20,
   "metadata": {},
   "outputs": [],
   "source": [
    "#custom training\n",
    "def loss(true, pred):\n",
    "    #pred = tf.cast(pred, tf.float32)\n",
    "    #true = tf.cast(true, tf.float32)\n",
    "    return tf.reduce_mean(tf.square(tf.subtract(true, pred)))"
   ]
  },
  {
   "cell_type": "code",
   "execution_count": 28,
   "metadata": {},
   "outputs": [],
   "source": [
    "# custom training -  compute gradient of loss and update weights\n",
    "@tf.function\n",
    "def train(loss, model, opt , original_features):\n",
    "    with tf.GradientTape() as g:\n",
    "        pred = tf.cast(model(original_features), tf.float64)\n",
    "        reconstruction_error =  loss(original_features, pred)\n",
    "    \n",
    "    gradients = g.gradient(reconstruction_error, model.trainable_variables)\n",
    "    opt.apply_gradients(zip(gradients, model.trainable_variables))\n",
    "\n",
    "    return reconstruction_error"
   ]
  },
  {
   "cell_type": "code",
   "execution_count": 32,
   "metadata": {},
   "outputs": [
    {
     "name": "stdout",
     "output_type": "stream",
     "text": [
      "Epoch 1. loss = 0.005336240865290165\n",
      "Epoch 1: time taken = 1.55s, train loss = 0.005336\n",
      "Epoch 2. loss = 0.005348077975213528\n",
      "Epoch 2: time taken = 1.51s, train loss = 0.005348\n",
      "Epoch 3. loss = 0.005384488496929407\n",
      "Epoch 3: time taken = 1.56s, train loss = 0.005384\n",
      "Epoch 4. loss = 0.005374573171138763\n",
      "Epoch 4: time taken = 1.55s, train loss = 0.005375\n",
      "Epoch 5. loss = 0.0053656091913580894\n",
      "Epoch 5: time taken = 1.50s, train loss = 0.005366\n",
      "Epoch 6. loss = 0.005366146098822355\n",
      "Epoch 6: time taken = 1.56s, train loss = 0.005366\n",
      "Epoch 7. loss = 0.0053571839816868305\n",
      "Epoch 7: time taken = 1.66s, train loss = 0.005357\n",
      "Epoch 8. loss = 0.005354090128093958\n",
      "Epoch 8: time taken = 1.58s, train loss = 0.005354\n",
      "Epoch 9. loss = 0.005342843011021614\n",
      "Epoch 9: time taken = 1.59s, train loss = 0.005343\n",
      "Epoch 10. loss = 0.005336232483386993\n",
      "Epoch 10: time taken = 1.59s, train loss = 0.005336\n",
      "Epoch 11. loss = 0.005334449931979179\n",
      "Epoch 11: time taken = 1.71s, train loss = 0.005334\n",
      "Epoch 12. loss = 0.0053399428725242615\n",
      "Epoch 12: time taken = 1.64s, train loss = 0.005340\n",
      "Epoch 13. loss = 0.005334910470992327\n",
      "Epoch 13: time taken = 1.69s, train loss = 0.005335\n",
      "Epoch 14. loss = 0.00533377006649971\n",
      "Epoch 14: time taken = 1.69s, train loss = 0.005334\n",
      "Epoch 15. loss = 0.0053390273824334145\n",
      "Epoch 15: time taken = 1.79s, train loss = 0.005339\n",
      "Epoch 16. loss = 0.005341948010027409\n",
      "Epoch 16: time taken = 1.57s, train loss = 0.005342\n",
      "Epoch 17. loss = 0.005341301206499338\n",
      "Epoch 17: time taken = 1.71s, train loss = 0.005341\n",
      "Epoch 18. loss = 0.005339520517736673\n",
      "Epoch 18: time taken = 1.62s, train loss = 0.005340\n",
      "Epoch 19. loss = 0.0053346892818808556\n",
      "Epoch 19: time taken = 1.65s, train loss = 0.005335\n",
      "Epoch 20. loss = 0.005334134213626385\n",
      "Epoch 20: time taken = 1.73s, train loss = 0.005334\n",
      "Epoch 21. loss = 0.005335546564310789\n",
      "Epoch 21: time taken = 1.74s, train loss = 0.005336\n",
      "Epoch 22. loss = 0.005335396155714989\n",
      "Epoch 22: time taken = 1.76s, train loss = 0.005335\n",
      "Epoch 23. loss = 0.005333207547664642\n",
      "Epoch 23: time taken = 1.75s, train loss = 0.005333\n",
      "Epoch 24. loss = 0.005330102052539587\n",
      "Epoch 24: time taken = 1.93s, train loss = 0.005330\n",
      "Epoch 25. loss = 0.005328087601810694\n",
      "Epoch 25: time taken = 1.88s, train loss = 0.005328\n",
      "Epoch 26. loss = 0.005329486448317766\n",
      "Epoch 26: time taken = 1.88s, train loss = 0.005329\n",
      "Epoch 27. loss = 0.0053284685127437115\n",
      "Epoch 27: time taken = 1.90s, train loss = 0.005328\n",
      "Epoch 28. loss = 0.005326807498931885\n",
      "Epoch 28: time taken = 1.85s, train loss = 0.005327\n",
      "Epoch 29. loss = 0.005325490143150091\n",
      "Epoch 29: time taken = 1.87s, train loss = 0.005325\n",
      "Epoch 30. loss = 0.0053249383345246315\n",
      "Epoch 30: time taken = 1.88s, train loss = 0.005325\n",
      "Epoch 31. loss = 0.005326427053660154\n",
      "Epoch 31: time taken = 1.87s, train loss = 0.005326\n",
      "Epoch 32. loss = 0.005327689927071333\n",
      "Epoch 32: time taken = 1.88s, train loss = 0.005328\n",
      "Epoch 33. loss = 0.005334652028977871\n",
      "Epoch 33: time taken = 1.87s, train loss = 0.005335\n",
      "Epoch 34. loss = 0.005333229899406433\n",
      "Epoch 34: time taken = 1.85s, train loss = 0.005333\n",
      "Epoch 35. loss = 0.005334076471626759\n",
      "Epoch 35: time taken = 1.83s, train loss = 0.005334\n",
      "Epoch 36. loss = 0.005335214082151651\n",
      "Epoch 36: time taken = 1.83s, train loss = 0.005335\n",
      "Epoch 37. loss = 0.005340650212019682\n",
      "Epoch 37: time taken = 1.88s, train loss = 0.005341\n",
      "Epoch 38. loss = 0.005339764058589935\n",
      "Epoch 38: time taken = 1.86s, train loss = 0.005340\n",
      "Epoch 39. loss = 0.005337601061910391\n",
      "Epoch 39: time taken = 1.86s, train loss = 0.005338\n",
      "Epoch 40. loss = 0.005335637368261814\n",
      "Epoch 40: time taken = 1.85s, train loss = 0.005336\n",
      "Epoch 41. loss = 0.005333462730050087\n",
      "Epoch 41: time taken = 1.92s, train loss = 0.005333\n",
      "Epoch 42. loss = 0.0053306384943425655\n",
      "Epoch 42: time taken = 1.93s, train loss = 0.005331\n",
      "Epoch 43. loss = 0.005330038256943226\n",
      "Epoch 43: time taken = 1.90s, train loss = 0.005330\n",
      "Epoch 44. loss = 0.005329102743417025\n",
      "Epoch 44: time taken = 1.99s, train loss = 0.005329\n",
      "Epoch 45. loss = 0.0053353519178926945\n",
      "Epoch 45: time taken = 1.83s, train loss = 0.005335\n",
      "Epoch 46. loss = 0.005333251785486937\n",
      "Epoch 46: time taken = 1.71s, train loss = 0.005333\n",
      "Epoch 47. loss = 0.005334061104804277\n",
      "Epoch 47: time taken = 1.69s, train loss = 0.005334\n",
      "Epoch 48. loss = 0.005331784952431917\n",
      "Epoch 48: time taken = 1.74s, train loss = 0.005332\n",
      "Epoch 49. loss = 0.005331752821803093\n",
      "Epoch 49: time taken = 1.73s, train loss = 0.005332\n",
      "Epoch 50. loss = 0.005330950487405062\n",
      "Epoch 50: time taken = 1.70s, train loss = 0.005331\n"
     ]
    }
   ],
   "source": [
    "import time\n",
    "# train network by iterating over epochs\n",
    "# Varible to store training loss per epoch\n",
    "loss_train_epoch = tf.keras.metrics.Mean()\n",
    "\n",
    "#iterate over epochs\n",
    "for epoch in range(max_epochs):\n",
    "    start_time = time.time()\n",
    "    epoch_loss = 0\n",
    "    for step, train_batch_features in enumerate(training_dataset):\n",
    "        loss_batch = train(loss, autoencoder, opt, train_batch_features)\n",
    "   #append loss per epoch\n",
    "    loss_train_epoch(loss_batch)\n",
    "    print(f'Epoch {epoch+1}. loss = {loss_train_epoch.result()}' )\n",
    "    print('Epoch %d: time taken = %.2fs, train loss = %f'%(epoch+1, time.time() - start_time, loss_train_epoch.result()))"
   ]
  },
  {
   "cell_type": "code",
   "execution_count": null,
   "metadata": {},
   "outputs": [],
   "source": [
    "fig, ax = plt.subplots(1, 2, figsize=(4, 4))\n",
    "fig.tight_layout(pad=5.0)\n",
    "pd.Series(loss_train_epoch).plot(ax=ax[0], color='b')\n",
    "ax[0].set_xlabel('Epochs', fontsize=15)\n",
    "ax[0].set_ylabel('Loss', fontsize=15)\n",
    "ax[0].legend()\n",
    "ax[0].set_title('Loss vs. Epoch', fontsize=15)\n"
   ]
  },
  {
   "cell_type": "code",
   "execution_count": null,
   "metadata": {},
   "outputs": [],
   "source": [
    "train_loop(autoencoder, opt, loss, training_dataset, max_epochs)"
   ]
  },
  {
   "cell_type": "code",
   "execution_count": 27,
   "metadata": {},
   "outputs": [
    {
     "name": "stderr",
     "output_type": "stream",
     "text": [
      "C:\\Users\\SA RAVI\\AppData\\Local\\Temp\\ipykernel_17784\\3907480142.py:4: MatplotlibDeprecationWarning: Auto-removal of overlapping axes is deprecated since 3.6 and will be removed two minor releases later; explicitly call ax.remove() as needed.\n",
      "  ax = plt.subplot(2, nimages, ind + 1)\n"
     ]
    },
    {
     "data": {
      "image/png": "[encoded data removed]",
      "text/plain": [
       "<Figure size 1000x400 with 10 Axes>"
      ]
     },
     "metadata": {},
     "output_type": "display_data"
    }
   ],
   "source": [
    "nimages = 5\n",
    "fig, ax = plt.subplots(1, 2, figsize=(10, 4))\n",
    "for ind in range(nimages):\n",
    "    ax = plt.subplot(2, nimages, ind + 1)\n",
    "    plt.imshow(X_train[ind].reshape(28, 28), cmap='gray')\n",
    "    ax.get_xaxis().set_visible(False)\n",
    "    ax.get_yaxis().set_visible(False)\n",
    "\n",
    "    #reconstructed images\n",
    "    ax = plt.subplot(2, nimages, ind + 1 + nimages)\n",
    "    plt.imshow(autoencoder(X_test)[ind].numpy().reshape(28, 28), cmap='gray')\n",
    "    ax.get_xaxis().set_visible(False)\n",
    "    ax.get_yaxis().set_visible(False)\n",
    "plt.show()"
   ]
  }
 ],
 "metadata": {
  "kernelspec": {
   "display_name": "aimlsem1",
   "language": "python",
   "name": "python3"
  },
  "language_info": {
   "codemirror_mode": {
    "name": "ipython",
    "version": 3
   },
   "file_extension": ".py",
   "mimetype": "text/x-python",
   "name": "python",
   "nbconvert_exporter": "python",
   "pygments_lexer": "ipython3",
   "version": "3.9.17"
  }
 },
 "nbformat": 4,
 "nbformat_minor": 2
}

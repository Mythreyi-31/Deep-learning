{
  "nbformat": 4,
  "nbformat_minor": 0,
  "metadata": {
    "colab": {
      "provenance": []
    },
    "kernelspec": {
      "name": "python3",
      "display_name": "Python 3"
    },
    "language_info": {
      "name": "python"
    }
  },
  "cells": [
    {
      "cell_type": "code",
      "execution_count": null,
      "metadata": {
        "id": "yx36C252c9Sa"
      },
      "outputs": [],
      "source": [
        "import numpy as np\n",
        "import pandas as pd\n",
        "import tensorflow as tf\n",
        "from sklearn.model_selection import train_test_split\n",
        "from sklearn.preprocessing import StandardScaler"
      ]
    },
    {
      "cell_type": "code",
      "source": [
        "def load_dataset(file_path):\n",
        "    \"\"\"Load dataset from CSV file.\"\"\"\n",
        "    return pd.read_csv(file_path)"
      ],
      "metadata": {
        "id": "-oNbh-AvdAeE"
      },
      "execution_count": null,
      "outputs": []
    },
    {
      "cell_type": "code",
      "source": [
        "def preprocess_data(dataset):\n",
        "    \"\"\"Preprocess dataset: handle missing values, scale numerical features.\"\"\"\n",
        "    # Filter patients who have not survived\n",
        "    dataset = dataset[dataset['In-hospital_death'] == 1]\n",
        "\n",
        "    X = dataset.drop(columns=['recordid', 'In-hospital_death'])  # Features\n",
        "    y = dataset['In-hospital_death']  # Target variable\n",
        "\n",
        "    # Handling missing values (if any)\n",
        "    X.fillna(X.mean(), inplace=True)  # Filling missing values with mean\n",
        "\n",
        "    # Scaling numerical features\n",
        "    scaler = StandardScaler()\n",
        "    X_scaled = scaler.fit_transform(X)\n",
        "\n",
        "    return X_scaled, y\n"
      ],
      "metadata": {
        "id": "yal0BQcndEqE"
      },
      "execution_count": null,
      "outputs": []
    },
    {
      "cell_type": "code",
      "source": [
        "def train_test_split_data(X, y, test_size=0.2, random_state=42):\n",
        "    \"\"\"Perform train-test split.\"\"\"\n",
        "    return train_test_split(X, y, test_size=test_size, random_state=random_state)\n"
      ],
      "metadata": {
        "id": "CaNrApkrdKAc"
      },
      "execution_count": null,
      "outputs": []
    },
    {
      "cell_type": "code",
      "source": [
        "def build_autoencoder(input_dim, encoding_dim):\n",
        "    \"\"\"Build Autoencoder architecture.\"\"\"\n",
        "    input_layer = tf.keras.Input(shape=(input_dim,))\n",
        "    encoder = tf.keras.layers.Dense(encoding_dim, activation='relu')(input_layer)\n",
        "    decoder = tf.keras.layers.Dense(input_dim, activation='relu')(encoder)\n",
        "    autoencoder = tf.keras.Model(inputs=input_layer, outputs=decoder)\n",
        "    return autoencoder"
      ],
      "metadata": {
        "id": "MUg8kQG9dRKV"
      },
      "execution_count": null,
      "outputs": []
    },
    {
      "cell_type": "code",
      "source": [
        "def train_autoencoder(autoencoder, X_train, X_test, epochs=50, batch_size=128):\n",
        "    \"\"\"Train Autoencoder.\"\"\"\n",
        "    autoencoder.compile(optimizer='adam', loss='mean_squared_error')\n",
        "    autoencoder.fit(X_train, X_train, epochs=epochs, batch_size=batch_size, shuffle=True, validation_data=(X_test, X_test))\n"
      ],
      "metadata": {
        "id": "7nNOJvL2dVDs"
      },
      "execution_count": null,
      "outputs": []
    },
    {
      "cell_type": "code",
      "source": [
        "def extract_features(encoder_model, X_train, X_test):\n",
        "    \"\"\"Extract features using the trained encoder.\"\"\"\n",
        "    X_train_encoded = encoder_model.predict(X_train)\n",
        "    X_test_encoded = encoder_model.predict(X_test)\n",
        "    return X_train_encoded, X_test_encoded\n"
      ],
      "metadata": {
        "id": "80LoNy-AdYek"
      },
      "execution_count": null,
      "outputs": []
    },
    {
      "cell_type": "code",
      "source": [
        "def build_classifier(input_dim, encoding_dim):\n",
        "    \"\"\"Build Classifier on top of extracted features.\"\"\"\n",
        "    classifier = tf.keras.Sequential([\n",
        "        tf.keras.layers.Dense(64, activation='relu', input_shape=(encoding_dim,)),\n",
        "        tf.keras.layers.Dense(1, activation='sigmoid')\n",
        "    ])\n",
        "    return classifier"
      ],
      "metadata": {
        "id": "GL64CJh2dctk"
      },
      "execution_count": null,
      "outputs": []
    },
    {
      "cell_type": "code",
      "source": [
        "def train_classifier(classifier, X_train_encoded, y_train, X_test_encoded, y_test, epochs=10, batch_size=128):\n",
        "    \"\"\"Train Classifier.\"\"\"\n",
        "    classifier.compile(optimizer='adam', loss='binary_crossentropy', metrics=['accuracy'])\n",
        "    classifier.fit(X_train_encoded, y_train, epochs=epochs, batch_size=batch_size, validation_data=(X_test_encoded, y_test))\n",
        "\n",
        "def evaluate_classifier(classifier, X_test_encoded, y_test):\n",
        "    \"\"\"Evaluate Classifier.\"\"\"\n",
        "    loss, accuracy = classifier.evaluate(X_test_encoded, y_test)\n",
        "    print(f'Test Accuracy: {accuracy}')"
      ],
      "metadata": {
        "id": "vgAEQD10dj98"
      },
      "execution_count": null,
      "outputs": []
    },
    {
      "cell_type": "code",
      "source": [
        "def main():\n",
        "    file_path = \"your_dataset.csv\"  # Specify the file path\n",
        "    dataset = load_dataset(file_path)\n",
        "\n",
        "    X, y = preprocess_data(dataset)\n",
        "    X_train, X_test, y_train, y_test = train_test_split_data(X, y)\n",
        "\n",
        "    input_dim = X_train.shape[1]\n",
        "    encoding_dim = 32\n",
        "\n",
        "    autoencoder = build_autoencoder(input_dim, encoding_dim)\n",
        "    train_autoencoder(autoencoder, X_train, X_test)\n",
        "\n",
        "    encoder_model = tf.keras.Model(inputs=autoencoder.input, outputs=autoencoder.layers[1].output)\n",
        "    X_train_encoded, X_test_encoded = extract_features(encoder_model, X_train, X_test)\n",
        "\n",
        "    classifier = build_classifier(input_dim=encoding_dim, encoding_dim=encoding_dim)\n",
        "    train_classifier(classifier, X_train_encoded, y_train, X_test_encoded, y_test)\n",
        "\n",
        "    evaluate_classifier(classifier, X_test_encoded, y_test)\n",
        "\n",
        "if __name__ == \"__main__\":\n",
        "    main()"
      ],
      "metadata": {
        "id": "MiHmOYJDdo7E"
      },
      "execution_count": null,
      "outputs": []
    }
  ]
}